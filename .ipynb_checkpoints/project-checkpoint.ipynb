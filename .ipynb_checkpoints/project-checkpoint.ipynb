{
 "cells": [
  {
   "cell_type": "code",
   "execution_count": 371,
   "metadata": {},
   "outputs": [],
   "source": [
    "import pandas as pd\n",
    "import numpy as np\n",
    "import matplotlib.pyplot as plt\n",
    "import random\n",
    "import time as t\n",
    "plt.style.use('seaborn-whitegrid')\n",
    "\n",
    "credit = pd.read_csv('https://raw.githubusercontent.com/jzuver/Final-211/main/BankChurners.csv')\n",
    "\n",
    "def laplace_mech_vec(vec, sensitivity, epsilon):\n",
    "    return [v + np.random.laplace(loc=0, scale=sensitivity / epsilon) for v in vec]\n",
    "\n",
    "def gaussian_mech_vec(vec, sensitivity, epsilon, delta):\n",
    "    return [v + np.random.normal(loc=0, scale=sensitivity * np.sqrt(2*np.log(1.25/delta)) / epsilon)\n",
    "            for v in vec]\n",
    "\n",
    "\n",
    "def pct_error(orig, priv):\n",
    "    return np.abs(orig - priv)/orig * 100.0\n",
    "\n",
    "custom_workload = [(len(credit[credit['Customer_Age'] > 10])), \n",
    "                     (len(credit[credit['Customer_Age'] > 45])),\n",
    "                    (len(credit[(credit['Customer_Age'] > 40) & (credit['Gender'] == 'M')])),\n",
    "                   (len(credit[(credit['Customer_Age'] > 40) & (credit['Gender'] == 'F')])),\n",
    "                   (len(credit[(credit['Customer_Age'] < 40) & (credit['Gender'] == 'F')])),\n",
    "                   (len(credit[(credit['Customer_Age'] == 40) & (credit['Education_Level'] == 'Graduate')])),\n",
    "                   (len(credit[credit['Marital_Status'] == 'Single']) & len(credit[credit['Gender'] == 'M'])),\n",
    "                   (len(credit[credit['Marital_Status'] == 'Single']) & len(credit[credit['Gender'] == 'F'])),\n",
    "                   (len(credit[credit['Dependent_count'] == 4])),\n",
    "                   (len(credit[credit['Card_Category'] ==  'Blue'])),\n",
    "                   (len(credit[credit['Education_Level'] ==  'Uneducated'])),\n",
    "                    (len(credit[credit['Credit_Limit'] >  10000])),\n",
    "                   (len(credit[credit['Months_on_book'] >  36])),\n",
    "                   (len(credit[(credit['Customer_Age'] < 30) & (credit['Education_Level'] == 'High School')])),\n",
    "                         (len(credit[(credit['Customer_Age'] > 30) & (credit['Card_Category'] == 'Silver')]))\n",
    "                  ]\n",
    "real_answers = custom_workload\n",
    "\n"
   ]
  },
  {
   "cell_type": "code",
   "execution_count": null,
   "metadata": {
    "scrolled": true
   },
   "outputs": [],
   "source": []
  },
  {
   "cell_type": "markdown",
   "metadata": {},
   "source": [
    "## Vector-Valued Laplace Mechanism on Workload of Queries\n",
    "Below we perform the vector-valued Laplace Mechanism on a workload of queries on multiple columns in the data, and the first 5 answers and average absolute error are displayed."
   ]
  },
  {
   "cell_type": "code",
   "execution_count": 297,
   "metadata": {},
   "outputs": [
    {
     "name": "stdout",
     "output_type": "stream",
     "text": [
      "First 5 answers: [10123.230965095976, 5490.023512370579, 3550.628650929644, 4100.087110966251, 1034.1317319210184]\n"
     ]
    }
   ],
   "source": [
    "def workload_laplace_vec(workload, epsilon):\n",
    "    # create parameters for range_query and list to store \n",
    "    noisy_vec_vals = laplace_mech_vec(workload, len(workload), epsilon)\n",
    "    return noisy_vec_vals\n",
    "print('First 5 answers:', workload_laplace_vec(custom_workload, 1.0)[:5])"
   ]
  },
  {
   "cell_type": "code",
   "execution_count": 298,
   "metadata": {},
   "outputs": [
    {
     "name": "stdout",
     "output_type": "stream",
     "text": [
      "Average absolute error: 16.350895674610644\n"
     ]
    }
   ],
   "source": [
    "Lerrors = [abs(r_a - l_a) for (r_a, l_a) in zip(real_answers, workload_laplace_vec(custom_workload, 1.0))]\n",
    "print('Average absolute error:', np.mean(Lerrors))"
   ]
  },
  {
   "cell_type": "markdown",
   "metadata": {},
   "source": [
    "## Vector-Valued Gaussian Mechanism on Workload of Queries\n",
    "Below we perform the vector-valued Gaussiam Mechanism on a workload of queries on multiple columns in the data, and the first 5 answers and average absolute error are displayed."
   ]
  },
  {
   "cell_type": "code",
   "execution_count": 299,
   "metadata": {},
   "outputs": [
    {
     "name": "stdout",
     "output_type": "stream",
     "text": [
      "First 5 answers: [10154.759465067293, 5457.486261301428, 3628.83776546974, 4116.515080448586, 1045.0702484662152]\n"
     ]
    }
   ],
   "source": [
    "def workload_gaussian_vec(workload, epsilon, delta):\n",
    "    noisy_vec_vals = gaussian_mech_vec(workload, np.sqrt(len(workload)), epsilon, delta)\n",
    "    return noisy_vec_vals\n",
    "print('First 5 answers:', workload_gaussian_vec(custom_workload, 1.0, 1e-5)[:5])"
   ]
  },
  {
   "cell_type": "code",
   "execution_count": 300,
   "metadata": {},
   "outputs": [
    {
     "name": "stdout",
     "output_type": "stream",
     "text": [
      "Average absolute error: 17.710334876333288\n"
     ]
    }
   ],
   "source": [
    "Gerrors = [abs(r_a - l_a) for (r_a, l_a) in zip(real_answers, workload_gaussian_vec(custom_workload, 1.0, 1e-5))]\n",
    "print('Average absolute error:', np.mean(Gerrors))"
   ]
  },
  {
   "cell_type": "markdown",
   "metadata": {},
   "source": [
    "## Analysis on Workload with k = 15 \n",
    "Below we perform the workload_laplace_vec and workload_gaussian_vec functions 10,000 times each to get a better idea of what the true average absolute error is. As we can see from the results, when performing both mechanisms on the workload of $k$ = 15 1-sensitive results, the average absolute error appears to be very similar. "
   ]
  },
  {
   "cell_type": "code",
   "execution_count": 337,
   "metadata": {},
   "outputs": [],
   "source": [
    "def laplace_analysis(iterations):\n",
    "    accumulator = 0\n",
    "    for i in range(iterations):\n",
    "        accumulator += np.mean([abs(r_a - l_a) for (r_a, l_a) in zip(real_answers, workload_laplace_vec(custom_workload, 1.0))])\n",
    "    return accumulator / iterations    "
   ]
  },
  {
   "cell_type": "code",
   "execution_count": 338,
   "metadata": {},
   "outputs": [
    {
     "data": {
      "text/plain": [
       "14.968901241932102"
      ]
     },
     "execution_count": 338,
     "metadata": {},
     "output_type": "execute_result"
    }
   ],
   "source": [
    "laplace_analysis(10000)"
   ]
  },
  {
   "cell_type": "code",
   "execution_count": 339,
   "metadata": {},
   "outputs": [],
   "source": [
    "def gaussian_analysis(iterations):\n",
    "    accumulator = 0\n",
    "    for i in range(iterations):\n",
    "        accumulator += np.mean([abs(r_a - l_a) for (r_a, l_a) in zip(real_answers, workload_gaussian_vec(custom_workload, 1.0, 1e-5))])\n",
    "    return accumulator / iterations "
   ]
  },
  {
   "cell_type": "code",
   "execution_count": 340,
   "metadata": {},
   "outputs": [
    {
     "data": {
      "text/plain": [
       "14.989661746112615"
      ]
     },
     "execution_count": 340,
     "metadata": {},
     "output_type": "execute_result"
    }
   ],
   "source": [
    "gaussian_analysis(10000)"
   ]
  },
  {
   "cell_type": "markdown",
   "metadata": {},
   "source": [
    "## Analysis on Workload with k = 15000\n"
   ]
  },
  {
   "cell_type": "code",
   "execution_count": 383,
   "metadata": {},
   "outputs": [],
   "source": [
    "# This function creates a workload that is the custom_workload \n",
    "# repeated 1000 times, for the purpose of testing larger workloads\n",
    "def make_long_workload(iterations):\n",
    "    long_workload = []\n",
    "    for i in range(iterations):\n",
    "        for i in custom_workload:\n",
    "            long_workload.append(i)\n",
    "    return long_workload"
   ]
  },
  {
   "cell_type": "code",
   "execution_count": 384,
   "metadata": {},
   "outputs": [],
   "source": [
    "# create workload with k = 15,000\n",
    "long_workload = make_long_workload(1000)"
   ]
  },
  {
   "cell_type": "code",
   "execution_count": 392,
   "metadata": {},
   "outputs": [],
   "source": [
    "def gaussian_analysis_long(iterations):\n",
    "    accumulator = 0\n",
    "    for i in range(iterations):\n",
    "        accumulator += np.mean([abs(r_a - l_a) for (r_a, l_a) in zip(real_answers, workload_gaussian_vec(long_workload, 1.0, 1e-5))])\n",
    "    return accumulator / iterations "
   ]
  },
  {
   "cell_type": "code",
   "execution_count": 393,
   "metadata": {},
   "outputs": [
    {
     "data": {
      "text/plain": [
       "471.41095203107676"
      ]
     },
     "execution_count": 393,
     "metadata": {},
     "output_type": "execute_result"
    }
   ],
   "source": [
    "gaussian_analysis_long(1000)"
   ]
  },
  {
   "cell_type": "code",
   "execution_count": 394,
   "metadata": {},
   "outputs": [],
   "source": [
    "def laplace_analysis_long(iterations):\n",
    "    accumulator = 0\n",
    "    for i in range(iterations):\n",
    "        accumulator += np.mean([abs(r_a - l_a) for (r_a, l_a) in zip(real_answers, workload_laplace_vec(long_workload, 1.0))])\n",
    "    return accumulator / iterations    "
   ]
  },
  {
   "cell_type": "code",
   "execution_count": 395,
   "metadata": {},
   "outputs": [
    {
     "data": {
      "text/plain": [
       "14805.935618510573"
      ]
     },
     "execution_count": 395,
     "metadata": {},
     "output_type": "execute_result"
    }
   ],
   "source": [
    "laplace_analysis_long(1000)"
   ]
  },
  {
   "cell_type": "code",
   "execution_count": 372,
   "metadata": {},
   "outputs": [
    {
     "name": "stdout",
     "output_type": "stream",
     "text": [
      "time for laplace  analysis: 0.06196610000006331\n",
      "time for Gaussian analysis: 0.885108799999216\n"
     ]
    },
    {
     "data": {
      "image/png": "[encoded data removed]",
      "text/plain": [
       "<Figure size 432x288 with 1 Axes>"
      ]
     },
     "metadata": {},
     "output_type": "display_data"
    }
   ],
   "source": [
    "vec1 = []\n",
    "vec2 = []\n",
    "startL = t.perf_counter()\n",
    "for x in range(1, 50):\n",
    "    vec1.append(laplace_analysis(x))\n",
    "endL = t.perf_counter()\n",
    "dL = endL-startL\n",
    "startG = t.perf_counter()\n",
    "for x in range(1, 50):\n",
    "    vec2.append(gaussian_analysis(x))\n",
    "endG = t.perf_counter()\n",
    "dG = endG-startG\n",
    "plt.plot(vec1)\n",
    "plt.plot(vec2)\n",
    "print(\"time for laplace  analysis:\", dL)\n",
    "print(\"time for Gaussian analysis:\", dG)"
   ]
  },
  {
   "cell_type": "code",
   "execution_count": null,
   "metadata": {},
   "outputs": [],
   "source": []
  }
 ],
 "metadata": {
  "kernelspec": {
   "display_name": "Python 3",
   "language": "python",
   "name": "python3"
  },
  "language_info": {
   "codemirror_mode": {
    "name": "ipython",
    "version": 3
   },
   "file_extension": ".py",
   "mimetype": "text/x-python",
   "name": "python",
   "nbconvert_exporter": "python",
   "pygments_lexer": "ipython3",
   "version": "3.8.5"
  }
 },
 "nbformat": 4,
 "nbformat_minor": 4
}
